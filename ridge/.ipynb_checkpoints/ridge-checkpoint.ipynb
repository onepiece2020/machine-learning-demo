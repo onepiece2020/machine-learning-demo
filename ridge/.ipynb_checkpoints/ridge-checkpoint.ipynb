{
 "cells": [
  {
   "cell_type": "markdown",
   "metadata": {},
   "source": [
    "# 1. Ridge回归的损失函数\n",
    "　　　　在我的另外一遍讲线性回归的文章中，对Ridge回归做了一些介绍，以及什么时候适合用 Ridge回归。如果对什么是Ridge回归还完全不清楚的建议阅读我这篇文章。\n",
    "\n",
    "　　　　线性回归原理小结\n",
    "\n",
    "　　　　Ridge回归的损失函数表达形式是：　　　　\n",
    "\n",
    "　　　　J(θ)=12(Xθ−Y)T(Xθ−Y)+12α||θ||22\n",
    "　　　　其中α为常数系数，需要进行调优。||θ||2为L2范数。\n",
    "\n",
    "　　　　算法需要解决的就是在找到一个合适的超参数α情况下，求出使J(θ)最小的θ。一般可以用梯度下降法和最小二乘法来解决这个问题。scikit-learn用的是最小二乘法。\n",
    "\n",
    "# 2. 数据获取与预处理\n",
    "　　　　这里我们仍然用UCI大学公开的机器学习数据来跑Ridge回归。\n",
    "\n",
    "　　　　数据的介绍在这： http://archive.ics.uci.edu/ml/datasets/Combined+Cycle+Power+Plant\n",
    "\n",
    "　　　　数据的下载地址在这： http://archive.ics.uci.edu/ml/machine-learning-databases/00294/\n",
    "\n",
    "　　　　完整的代码见我的github: https://github.com/ljpzzz/machinelearning/blob/master/classic-machine-learning/ridge_regression_1.ipynb\n",
    "\n",
    "　　　　里面是一个循环发电场的数据，共有9568个样本数据，每个数据有5列，分别是:AT（温度）, V（压力）, AP（湿度）, RH（压强）, PE（输出电力)。我们不用纠结于每项具体的意思。\n",
    "\n",
    "　　　　我们的问题是得到一个线性的关系，对应PE是样本输出，而AT/V/AP/RH这4个是样本特征， 机器学习的目的就是通过调节超参数α得到一个线性回归模型，即:\n",
    "\n",
    "　　　　PE=θ0+θ1∗AT+θ2∗V+θ3∗AP+θ4∗RH\n",
    "　　　　使损失函数J(θ)最小。而需要学习的，就是θ0,θ1,θ2,θ3,θ4这5个参数。\n",
    "\n",
    "　　　　下载后的数据可以发现是一个压缩文件，解压后可以看到里面有一个xlsx文件，我们先用excel把它打开，接着“另存为“”csv格式，保存下来，后面我们就用这个csv来运行Ridge回归。\n",
    "\n",
    " 　　　　这组数据并不一定适合用Ridge回归模型，实际上这组数据是高度线性的，使用正则化的Ridge回归仅仅只是为了讲解方便。\n",
    "\n",
    "# 3. 数据读取与训练集测试集划分\n",
    "　　　　我们先打开ipython notebook,新建一个notebook。当然也可以直接在python的交互式命令行里面输入，不过还是推荐用notebook。下面的例子和输出我都是在notebook里面跑的。\n",
    "\n",
    "　　　　先把要导入的库声明了："
   ]
  },
  {
   "cell_type": "code",
   "execution_count": 1,
   "metadata": {},
   "outputs": [],
   "source": [
    "import matplotlib.pyplot as plt\n",
    "%matplotlib inline\n",
    "import numpy as np\n",
    "import pandas as pd\n",
    "from sklearn import datasets, linear_model"
   ]
  },
  {
   "cell_type": "markdown",
   "metadata": {},
   "source": [
    "　接着用pandas读取数据："
   ]
  },
  {
   "cell_type": "code",
   "execution_count": 3,
   "metadata": {},
   "outputs": [],
   "source": [
    "# read_csv里面的参数是csv在你电脑上的路径，此处csv文件放在notebook运行目录下面的CCPP目录里\n",
    "data = pd.read_csv('.\\CCPP\\Folds5x2_pp.csv')"
   ]
  },
  {
   "cell_type": "markdown",
   "metadata": {},
   "source": [
    "我们用AT， V，AP和RH这4个列作为样本特征。用PE作为样本输出："
   ]
  },
  {
   "cell_type": "code",
   "execution_count": 4,
   "metadata": {},
   "outputs": [],
   "source": [
    "X = data[['AT', 'V', 'AP', 'RH']]\n",
    "y = data[['PE']]"
   ]
  },
  {
   "cell_type": "markdown",
   "metadata": {},
   "source": [
    "接着把数据集划分为训练集和测试集："
   ]
  },
  {
   "cell_type": "code",
   "execution_count": 5,
   "metadata": {},
   "outputs": [
    {
     "name": "stderr",
     "output_type": "stream",
     "text": [
      "D:\\Anaconda3\\lib\\site-packages\\sklearn\\cross_validation.py:41: DeprecationWarning: This module was deprecated in version 0.18 in favor of the model_selection module into which all the refactored classes and functions are moved. Also note that the interface of the new CV iterators are different from that of this module. This module will be removed in 0.20.\n",
      "  \"This module will be removed in 0.20.\", DeprecationWarning)\n"
     ]
    }
   ],
   "source": [
    "from sklearn.cross_validation import train_test_split\n",
    "X_train, X_test, y_train, y_test = train_test_split(X, y, random_state=1)"
   ]
  },
  {
   "cell_type": "markdown",
   "metadata": {},
   "source": [
    "# 4. 用scikit-learn运行Ridge回归\n",
    "　　　　要运行Ridge回归，我们必须要指定超参数α。你也许会问：“我也不知道超参数是多少啊？” 我也不知道，那么我们随机指定一个(比如1)，后面我们会讲到用交叉验证从多个输入超参数α中快速选择最优超参数的办法。"
   ]
  },
  {
   "cell_type": "code",
   "execution_count": 6,
   "metadata": {},
   "outputs": [
    {
     "data": {
      "text/plain": [
       "Ridge(alpha=1, copy_X=True, fit_intercept=True, max_iter=None,\n",
       "   normalize=False, random_state=None, solver='auto', tol=0.001)"
      ]
     },
     "execution_count": 6,
     "metadata": {},
     "output_type": "execute_result"
    }
   ],
   "source": [
    "from sklearn.linear_model import Ridge\n",
    "ridge = Ridge(alpha=1)\n",
    "ridge.fit(X_train, y_train)"
   ]
  },
  {
   "cell_type": "markdown",
   "metadata": {},
   "source": [
    "　训练完了，可以看看模型参数是多少:"
   ]
  },
  {
   "cell_type": "code",
   "execution_count": 8,
   "metadata": {},
   "outputs": [
    {
     "name": "stdout",
     "output_type": "stream",
     "text": [
      "[[-1.97373209 -0.2323016   0.06935852 -0.15806479]]\n",
      "[447.05552892]\n"
     ]
    }
   ],
   "source": [
    "print (ridge.coef_)\n",
    "print (ridge.intercept_)"
   ]
  },
  {
   "cell_type": "markdown",
   "metadata": {},
   "source": [
    "　　输出结果如下：\n",
    "\n",
    "[[-1.97373209 -0.2323016   0.06935852 -0.15806479]]\n",
    "[ 447.05552892]\n",
    "　　　　也就是说我们得到的模型是：\n",
    "\n",
    "PE=447.05552892−1.97373209∗AT−0.2323016∗V+0.06935852∗AP−0.15806479∗RH\n",
    "　　　　但是这样还没有完？为什么呢，因为我们假设了超参数α为1， 实际上我们并不知道超参数α取多少最好，实际研究是需要在多组自选的α中选择一个最优的。\n",
    "\n",
    "　　　　那么我们是不是要把上面这段程序在N种α的值情况下，跑N遍，然后再比较结果的优劣程度呢？ 可以这么做，但是scikit-learn提供了另外一个交叉验证选择最优α的API，下面我们就用这个API来选择α。\n",
    "\n",
    "# 5. 用scikit-learn选择Ridge回归超参数α\n",
    "　　　　这里我们假设我们想在这10个α值中选择一个最优的值。代码如下："
   ]
  },
  {
   "cell_type": "code",
   "execution_count": 9,
   "metadata": {},
   "outputs": [
    {
     "data": {
      "text/plain": [
       "7.0"
      ]
     },
     "execution_count": 9,
     "metadata": {},
     "output_type": "execute_result"
    }
   ],
   "source": [
    "from sklearn.linear_model import RidgeCV\n",
    "ridgecv = RidgeCV(alphas=[0.01, 0.1, 0.5, 1, 3, 5, 7, 10, 20, 100])\n",
    "ridgecv.fit(X_train, y_train)\n",
    "ridgecv.alpha_  "
   ]
  },
  {
   "cell_type": "markdown",
   "metadata": {},
   "source": [
    "输出结果为：7.0，说明在我们给定的这组超参数中， 7是最优的α值。\n",
    "\n",
    "# 6. 用scikit-learn研究超参数α和回归系数θ的关系\n",
    "　　　　通过Ridge回归的损失函数表达式可以看到，α越大，那么正则项惩罚的就越厉害，得到回归系数θ就越小，最终趋近与0。而如果α越小，即正则化项越小，那么回归系数θ就越来越接近于普通的线性回归系数。\n",
    "\n",
    "　　　　这里我们用scikit-learn来研究这种Ridge回归的变化，例子参考了scikit-learn的官网例子。我们单独启动一个notebook或者python shell来运行这个例子。\n",
    "\n",
    "　　　　完整的代码见我的github: https://github.com/ljpzzz/machinelearning/blob/master/classic-machine-learning/ridge_regression.ipynb\n",
    "\n",
    "　　　　首先还是加载类库："
   ]
  },
  {
   "cell_type": "code",
   "execution_count": 10,
   "metadata": {},
   "outputs": [],
   "source": [
    "import numpy as np\n",
    "import matplotlib.pyplot as plt\n",
    "from sklearn import linear_model\n",
    "%matplotlib inline"
   ]
  },
  {
   "cell_type": "markdown",
   "metadata": {},
   "source": [
    "接着我们自己生成一个10x10的矩阵X，表示一组有10个样本，每个样本有10个特征的数据。生成一个10x1的向量y代表样本输出。"
   ]
  },
  {
   "cell_type": "code",
   "execution_count": 11,
   "metadata": {},
   "outputs": [],
   "source": [
    "# X is a 10x10 matrix\n",
    "X = 1. / (np.arange(1, 11) + np.arange(0, 10)[:, np.newaxis])\n",
    "# y is a 10 x 1 vector\n",
    "y = np.ones(10)"
   ]
  },
  {
   "cell_type": "markdown",
   "metadata": {},
   "source": [
    "这样我们的数据有了，接着就是准备超参数α了。我们准备了200个超参数，来分别跑 Ridge回归。准备这么多的目的是为了后面画图看α和θ的关系"
   ]
  },
  {
   "cell_type": "code",
   "execution_count": 12,
   "metadata": {},
   "outputs": [],
   "source": [
    "n_alphas = 200\n",
    "# alphas count is 200, 都在10的-10次方和10的-2次方之间\n",
    "alphas = np.logspace(-10, -2, n_alphas)"
   ]
  },
  {
   "cell_type": "markdown",
   "metadata": {},
   "source": [
    "有了这200个超参数α，我们做200次循环，分别求出各个超参数对应的θ(10个维度)，存起来后面画图用。"
   ]
  },
  {
   "cell_type": "code",
   "execution_count": 13,
   "metadata": {},
   "outputs": [],
   "source": [
    "clf = linear_model.Ridge(fit_intercept=False)\n",
    "coefs = []\n",
    "# 循环200次\n",
    "for a in alphas:\n",
    "    #设置本次循环的超参数\n",
    "    clf.set_params(alpha=a)\n",
    "    #针对每个alpha做ridge回归\n",
    "    clf.fit(X, y)\n",
    "    # 把每一个超参数alpha对应的theta存下来\n",
    "    coefs.append(clf.coef_)"
   ]
  },
  {
   "cell_type": "markdown",
   "metadata": {},
   "source": [
    "　好了，有了200个超参数α，以及对应的θ，我们可以画图了。我们的图是以α为x轴，θ的10个维度为y轴画的。代码如下："
   ]
  },
  {
   "cell_type": "code",
   "execution_count": 14,
   "metadata": {},
   "outputs": [
    {
     "data": {
      "image/png": "[encoded data removed]",
      "text/plain": [
       "<Figure size 432x288 with 1 Axes>"
      ]
     },
     "metadata": {
      "needs_background": "light"
     },
     "output_type": "display_data"
    }
   ],
   "source": [
    "ax = plt.gca()\n",
    "\n",
    "ax.plot(alphas, coefs)\n",
    "#将alpha的值取对数便于画图\n",
    "ax.set_xscale('log')\n",
    "#翻转x轴的大小方向，让alpha从大到小显示\n",
    "ax.set_xlim(ax.get_xlim()[::-1]) \n",
    "plt.xlabel('alpha')\n",
    "plt.ylabel('weights')\n",
    "plt.title('Ridge coefficients as a function of the regularization')\n",
    "plt.axis('tight')\n",
    "plt.show()"
   ]
  },
  {
   "cell_type": "markdown",
   "metadata": {},
   "source": [
    "从图上也可以看出，当α比较大，接近于10−2的时候，θ的10个维度都趋于0。而当α比较小，接近于10−10的时候，θ的10个维度都趋于线性回归的回归系数。"
   ]
  },
  {
   "cell_type": "code",
   "execution_count": null,
   "metadata": {},
   "outputs": [],
   "source": []
  }
 ],
 "metadata": {
  "kernelspec": {
   "display_name": "Python 3",
   "language": "python",
   "name": "python3"
  },
  "language_info": {
   "codemirror_mode": {
    "name": "ipython",
    "version": 3
   },
   "file_extension": ".py",
   "mimetype": "text/x-python",
   "name": "python",
   "nbconvert_exporter": "python",
   "pygments_lexer": "ipython3",
   "version": "3.7.0"
  }
 },
 "nbformat": 4,
 "nbformat_minor": 2
}
